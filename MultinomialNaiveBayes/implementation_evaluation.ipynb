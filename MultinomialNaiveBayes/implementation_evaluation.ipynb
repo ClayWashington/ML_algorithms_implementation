{
 "cells": [
  {
   "cell_type": "markdown",
   "metadata": {},
   "source": [
    "## Evaluating my Multinomial Naive Bayes Implementation"
   ]
  },
  {
   "cell_type": "code",
   "execution_count": 1,
   "metadata": {
    "collapsed": false
   },
   "outputs": [],
   "source": [
    "import numpy as np\n",
    "import pandas as pd\n",
    "import time\n",
    "import re\n",
    "from sklearn.feature_extraction.text import CountVectorizer, TfidfTransformer\n",
    "from sklearn.model_selection import train_test_split\n",
    "from sklearn.naive_bayes import MultinomialNB\n",
    "from MultinomialNaiveBayes import MyMultinomialNB as nb\n",
    "from TextProcessing import BagOfWords as BoW\n",
    "from prettytable import PrettyTable as pt"
   ]
  },
  {
   "cell_type": "markdown",
   "metadata": {},
   "source": [
    "### The Data\n",
    "\n",
    "The Spooky Author dataset contains short exceprts from the writing of Edgar Allan Poe, Mary Shelley, and HP Lovecraft. Based on these excerpts, we are tasked with predicting the author."
   ]
  },
  {
   "cell_type": "code",
   "execution_count": 2,
   "metadata": {
    "collapsed": false
   },
   "outputs": [],
   "source": [
    "# Load Data\n",
    "data = pd.read_csv('C:/docs/ml_algorithms/data/spooky_author/train.csv')\n",
    "test = pd.read_csv('C:/docs/ml_algorithms/data/spooky_author/test.csv')"
   ]
  },
  {
   "cell_type": "code",
   "execution_count": 3,
   "metadata": {
    "collapsed": false
   },
   "outputs": [],
   "source": [
    "# Use sklearn functions to process text\n",
    "\n",
    "def bag_of_words(data, stop, max):\n",
    "    clean = []\n",
    "    text = data['text'].tolist()\n",
    "    for t in text:\n",
    "        clean.append(clean_text(t))\n",
    "        vectorizer = CountVectorizer(analyzer='word', stop_words=stop, max_features=max)\n",
    "    return vectorizer, vectorizer.fit_transform(clean).toarray()\n",
    "\n",
    "def clean_text(text):\n",
    "    text = text.lower()\n",
    "    text = re.sub('[^a-zA-Z ]', '', text)\n",
    "    return text\n",
    "\n",
    "# Binarizes integers\n",
    "def binarize(a):\n",
    "    if a > 0:\n",
    "        a = 1\n",
    "    return a\n",
    "\n",
    "# Vectoriztion of binarize for convenience\n",
    "v_binarize = np.vectorize(binarize)"
   ]
  },
  {
   "cell_type": "code",
   "execution_count": 4,
   "metadata": {
    "collapsed": false
   },
   "outputs": [
    {
     "name": "stdout",
     "output_type": "stream",
     "text": [
      "Clock Time: 0.7968251705169678\n"
     ]
    }
   ],
   "source": [
    "# Use sklearn to create bag of words represenations\n",
    "feature_size = 12000\n",
    "\n",
    "y = data['author'].as_matrix()\n",
    "\n",
    "start = time.time()\n",
    "vectorizer, X_counts = bag_of_words(data, 'english', feature_size)\n",
    "print('Clock Time: ' + str(time.time() - start))\n",
    "\n",
    "#Split data into train and test sets\n",
    "X_train, X_test, y_train, y_test = train_test_split(X_counts, y, test_size=0.2)"
   ]
  },
  {
   "cell_type": "code",
   "execution_count": 5,
   "metadata": {
    "collapsed": true
   },
   "outputs": [],
   "source": [
    "# For accuarcy calculation of my implementation\n",
    "def decode(value):\n",
    "    if value == 0:\n",
    "        return 'EAP'\n",
    "    if value == 1:\n",
    "        return 'HPL'\n",
    "    if value == 2:\n",
    "        return 'MWS'"
   ]
  },
  {
   "cell_type": "code",
   "execution_count": 6,
   "metadata": {
    "collapsed": false
   },
   "outputs": [
    {
     "name": "stdout",
     "output_type": "stream",
     "text": [
      "+--------------------+--------------------+--------------------+\n",
      "|   Implemenation    |      Accuracy      |     Clock Time     |\n",
      "+--------------------+--------------------+--------------------+\n",
      "|      Sklearn       |   0.812308478039   | 3.2614662647247314 |\n",
      "| My Implemenatation | 0.8125638406537283 | 1.9472846984863281 |\n",
      "+--------------------+--------------------+--------------------+\n"
     ]
    }
   ],
   "source": [
    "# Sklearn implementation\n",
    "start = time.time()\n",
    "skl_clf = MultinomialNB()\n",
    "skl_clf.fit(X_train, y_train)\n",
    "sk_clock = time.time() - start\n",
    "sk_acc = skl_clf.score(X_test, y_test)\n",
    "\n",
    "# My implemenation\n",
    "\n",
    "start = time.time()\n",
    "clf = nb(X_train, y_train, 1.0)\n",
    "my_clock = time.time() - start\n",
    "\n",
    "# Calculate accuracy of my implementation\n",
    "correct = 0\n",
    "for i in range(0, X_test.shape[0]):\n",
    "    if decode(clf.predict(X_test[i,:])) == y_test[i]:\n",
    "        correct = correct + 1\n",
    "my_acc = correct / X_test.shape[0]\n",
    "\n",
    "# Display Results\n",
    "table = pt()\n",
    "table.field_names = ['Implemenation', 'Accuracy', 'Clock Time']\n",
    "table.add_row(['Sklearn', sk_acc, sk_clock])\n",
    "table.add_row(['My Implemenatation', my_acc, my_clock])\n",
    "print(table)"
   ]
  },
  {
   "cell_type": "markdown",
   "metadata": {},
   "source": [
    "## On this dataset, my implemenation performs comparably to sklearn's implementation"
   ]
  },
  {
   "cell_type": "code",
   "execution_count": null,
   "metadata": {
    "collapsed": true
   },
   "outputs": [],
   "source": []
  }
 ],
 "metadata": {
  "kernelspec": {
   "display_name": "Python 3",
   "language": "python",
   "name": "python3"
  },
  "language_info": {
   "codemirror_mode": {
    "name": "ipython",
    "version": 3
   },
   "file_extension": ".py",
   "mimetype": "text/x-python",
   "name": "python",
   "nbconvert_exporter": "python",
   "pygments_lexer": "ipython3",
   "version": "3.6.0"
  }
 },
 "nbformat": 4,
 "nbformat_minor": 2
}
